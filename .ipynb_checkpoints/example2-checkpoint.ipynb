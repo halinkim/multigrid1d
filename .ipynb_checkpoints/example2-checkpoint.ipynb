{
 "cells": [
  {
   "cell_type": "code",
   "execution_count": null,
   "id": "initial_id",
   "metadata": {
    "collapsed": true,
    "is_executing": true
   },
   "outputs": [],
   "source": [
    "import math\n",
    "import matplotlib.pyplot as plt\n",
    "import pymg\n",
    "\n",
    "dep = 19\n",
    "N = 2 ** dep\n",
    "x0 = -1\n",
    "x1 = 1\n",
    "dx = (x1 - x0) / N\n",
    "x = [x0 + i * dx for i in range(N + 1)]\n",
    "u0 = u1 = 1\n",
    "u = [u0 + dx * i * (u1 - u0) / (x1 - x0) for i in range(N + 1)]\n",
    "g = [i ** 6 + 3 * i ** 2 for i in x]\n",
    "u_sol = [math.exp((x[i] ** 4 - 1) / 4) for i in range(N + 1)]"
   ]
  },
  {
   "cell_type": "code",
   "execution_count": 6,
   "outputs": [],
   "source": [
    "def nonlin_iter():\n",
    "    residual = [0] * (N + 1)\n",
    "    for i in range(1, N):\n",
    "        residual[i] = g[i] * u[i] ** 2 - (u[i + 1] + u[i - 1] - 2 * u[i]) / dx / dx\n",
    "    mg = pymg.Multigrid(dep, 1, x0, x1, 0, 0, residual)\n",
    "    delta_u = mg.solve()\n",
    "    for i in range(1, N):\n",
    "        u[i] += delta_u[i]\n",
    "    return pymg.norm2res(delta_u)\n"
   ],
   "metadata": {
    "collapsed": false,
    "ExecuteTime": {
     "end_time": "2023-11-28T08:46:55.541190127Z",
     "start_time": "2023-11-28T08:46:55.536394252Z"
    }
   },
   "id": "e938d6cae9aab251"
  },
  {
   "cell_type": "code",
   "execution_count": null,
   "outputs": [
    {
     "name": "stdout",
     "output_type": "stream",
     "text": [
      "3.282092907229436e-11\n",
      "0.22704344435929735\n",
      "7.893945592832394e-12\n",
      "0.08263965944033275\n",
      "2.502590962982816e-12\n",
      "0.026885869986596495\n",
      "8.294189952999341e-13\n",
      "0.009007559859700988\n",
      "2.7470298474472256e-13\n",
      "0.0029822226523451103\n",
      "9.121051777147572e-14\n",
      "0.00099086191777885\n",
      "3.027156615610579e-14\n",
      "0.00032881229085273995\n",
      "1.004929633415157e-14\n",
      "0.00010915965978979814\n",
      "3.3361969128039085e-15\n",
      "3.622913235180415e-05\n",
      "1.109207544819662e-15\n",
      "1.2019952872047172e-05\n"
     ]
    }
   ],
   "source": [
    "while 1:\n",
    "    res = nonlin_iter()\n",
    "    print(res)\n",
    "    if res < 1E-8:\n",
    "        break\n"
   ],
   "metadata": {
    "collapsed": false,
    "is_executing": true,
    "ExecuteTime": {
     "start_time": "2023-11-28T08:46:56.213703176Z"
    }
   },
   "id": "a049936ea8526635"
  },
  {
   "cell_type": "code",
   "execution_count": null,
   "outputs": [],
   "source": [
    "plt.plot(x, u)\n",
    "plt.grid()"
   ],
   "metadata": {
    "collapsed": false,
    "is_executing": true
   },
   "id": "8c65ab2f7d136b0b"
  },
  {
   "cell_type": "code",
   "execution_count": null,
   "outputs": [],
   "source": [
    "min(u)"
   ],
   "metadata": {
    "collapsed": false,
    "is_executing": true
   },
   "id": "28dd8740faca29bd"
  },
  {
   "cell_type": "code",
   "execution_count": null,
   "outputs": [],
   "source": [],
   "metadata": {
    "collapsed": false,
    "is_executing": true
   },
   "id": "823e7863fb125ec6"
  }
 ],
 "metadata": {
  "kernelspec": {
   "display_name": "Python 3",
   "language": "python",
   "name": "python3"
  },
  "language_info": {
   "codemirror_mode": {
    "name": "ipython",
    "version": 2
   },
   "file_extension": ".py",
   "mimetype": "text/x-python",
   "name": "python",
   "nbconvert_exporter": "python",
   "pygments_lexer": "ipython2",
   "version": "2.7.6"
  }
 },
 "nbformat": 4,
 "nbformat_minor": 5
}
